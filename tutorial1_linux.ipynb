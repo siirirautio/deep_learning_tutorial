{
 "cells": [
  {
   "cell_type": "markdown",
   "id": "4f537bdd",
   "metadata": {},
   "source": [
    "# Install Tensorflow and Keras on Linux"
   ]
  },
  {
   "cell_type": "markdown",
   "id": "91960e32",
   "metadata": {},
   "source": [
    "https://www.tensorflow.org/install/pip#linux\n",
    "\n",
    "System requirements:\n",
    "Ubuntu 16.04 or higher (64-bit)"
   ]
  },
  {
   "cell_type": "markdown",
   "id": "9a313fcc",
   "metadata": {},
   "source": [
    "### Install Miniconda:\n",
    "\n",
    "Miniconda is the recommended approach for installing TensorFlow. It creates a separate environment to avoid changing any installed software in your system.\n",
    "\n",
    "You can use the following command to install Miniconda. During installation, you may need to press enter and type \"yes\".\n",
    "\n",
    "Use conda -V to test if it is installed successfully."
   ]
  },
  {
   "cell_type": "raw",
   "id": "f4199940",
   "metadata": {},
   "source": [
    "curl https://repo.anaconda.com/miniconda/Miniconda3-latest-Linux-x86_64.sh -o Miniconda3-latest-Linux-x86_64.sh\n",
    "\n",
    "bash Miniconda3-latest-Linux-x86_64.sh"
   ]
  },
  {
   "cell_type": "markdown",
   "id": "93fd86dc",
   "metadata": {},
   "source": [
    "### Create a conda environment:\n",
    "\n",
    "Create a new conda environment named tf with the following command. Make sure it is activated for the rest of the installation. You can deactivate and activate it with the commands below."
   ]
  },
  {
   "cell_type": "raw",
   "id": "149693c0",
   "metadata": {},
   "source": [
    "conda create --name tf python=3.9"
   ]
  },
  {
   "cell_type": "raw",
   "id": "16f62b2b",
   "metadata": {},
   "source": [
    "conda deactivate\n",
    "conda activate tf"
   ]
  },
  {
   "cell_type": "markdown",
   "id": "5cd30932",
   "metadata": {},
   "source": [
    "### Install TensorFlow:\n",
    "\n",
    "TensorFlow requires a recent version of pip, so upgrade your pip installation to be sure you're running the latest version. Then, install TensorFlow with pip."
   ]
  },
  {
   "cell_type": "raw",
   "id": "c2c2ccd7",
   "metadata": {},
   "source": [
    "pip install --upgrade pip"
   ]
  },
  {
   "cell_type": "raw",
   "id": "b34c88fc",
   "metadata": {},
   "source": [
    "pip install tensorflow==2.13.*"
   ]
  },
  {
   "cell_type": "markdown",
   "id": "b7a74dae",
   "metadata": {},
   "source": [
    "### Verify installation:\n",
    "\n",
    "If a tensor is returned, you've installed TensorFlow successfully."
   ]
  },
  {
   "cell_type": "raw",
   "id": "ca773b51",
   "metadata": {},
   "source": [
    "python3 -c \"import tensorflow as tf; print(tf.reduce_sum(tf.random.normal([1000, 1000])))\""
   ]
  },
  {
   "cell_type": "markdown",
   "id": "038f5fe3",
   "metadata": {},
   "source": [
    "### Test Keras:"
   ]
  },
  {
   "cell_type": "code",
   "execution_count": null,
   "id": "fb3c1c03",
   "metadata": {},
   "outputs": [],
   "source": [
    "from tensorflow import keras"
   ]
  },
  {
   "cell_type": "markdown",
   "id": "608694e1",
   "metadata": {},
   "source": [
    "### Install packages:"
   ]
  },
  {
   "cell_type": "raw",
   "id": "73c3ba24",
   "metadata": {},
   "source": [
    "pip install numpy matplotlib scipy"
   ]
  },
  {
   "cell_type": "code",
   "execution_count": null,
   "id": "206bc365",
   "metadata": {},
   "outputs": [],
   "source": []
  },
  {
   "cell_type": "code",
   "execution_count": null,
   "id": "0f55e7bf",
   "metadata": {},
   "outputs": [],
   "source": []
  }
 ],
 "metadata": {
  "kernelspec": {
   "display_name": "Python 3 (ipykernel)",
   "language": "python",
   "name": "python3"
  },
  "language_info": {
   "codemirror_mode": {
    "name": "ipython",
    "version": 3
   },
   "file_extension": ".py",
   "mimetype": "text/x-python",
   "name": "python",
   "nbconvert_exporter": "python",
   "pygments_lexer": "ipython3",
   "version": "3.10.6"
  }
 },
 "nbformat": 4,
 "nbformat_minor": 5
}
