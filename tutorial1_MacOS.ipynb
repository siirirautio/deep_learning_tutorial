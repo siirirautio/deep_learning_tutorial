{
 "cells": [
  {
   "cell_type": "markdown",
   "id": "d18e5433",
   "metadata": {},
   "source": [
    "# Install Tensorflow and Keras on MacOS"
   ]
  },
  {
   "cell_type": "markdown",
   "id": "605071e2",
   "metadata": {},
   "source": [
    "https://www.tensorflow.org/install/pip#macos\n",
    "\n",
    "System requirements:\n",
    "macOS 10.12.6 (Sierra) or higher (64-bit)"
   ]
  },
  {
   "cell_type": "markdown",
   "id": "c9218dc4",
   "metadata": {},
   "source": [
    "### Check if your Python environment is already configured: \n",
    "Requires Python 3.8–3.11 and pip >= 20.3 for MacOS."
   ]
  },
  {
   "cell_type": "raw",
   "id": "31b7e7ee",
   "metadata": {},
   "source": [
    "python3 --version\n",
    "python3 -m pip --version"
   ]
  },
  {
   "cell_type": "markdown",
   "id": "2f43246a",
   "metadata": {},
   "source": [
    "### Install Miniconda:\n",
    "\n",
    "Miniconda is the recommended approach for installing TensorFlow. It creates a separate environment to avoid changing any installed software in your system.\n",
    "\n",
    "Use conda -V to test if it is installed successfully."
   ]
  },
  {
   "cell_type": "raw",
   "id": "68d471d7",
   "metadata": {},
   "source": [
    "curl https://repo.anaconda.com/miniconda/Miniconda3-latest-MacOSX-x86_64.sh -o Miniconda3-latest-MacOSX-x86_64.sh\n",
    "\n",
    "bash Miniconda3-latest-MacOSX-x86_64.sh"
   ]
  },
  {
   "cell_type": "markdown",
   "id": "ed8611bc",
   "metadata": {},
   "source": [
    "### Create a conda environment:\n",
    "\n",
    "Create a new conda environment named tf with the following command. Make sure it is activated for the rest of the installation. You can deactivate and activate it with the commands below."
   ]
  },
  {
   "cell_type": "raw",
   "id": "70fbf490",
   "metadata": {},
   "source": [
    "conda create --name tf python=3.9"
   ]
  },
  {
   "cell_type": "raw",
   "id": "8a863861",
   "metadata": {},
   "source": [
    "conda deactivate\n",
    "conda activate tf"
   ]
  },
  {
   "cell_type": "markdown",
   "id": "5fb1a470",
   "metadata": {},
   "source": [
    "### Install TensorFlow:\n",
    "\n",
    "TensorFlow requires a recent version of pip, so upgrade your pip installation to be sure you're running the latest version. Then, install TensorFlow with pip."
   ]
  },
  {
   "cell_type": "raw",
   "id": "35820c02",
   "metadata": {},
   "source": [
    "pip install --upgrade pip"
   ]
  },
  {
   "cell_type": "raw",
   "id": "5b282eb3",
   "metadata": {},
   "source": [
    "pip install tensorflow"
   ]
  },
  {
   "cell_type": "markdown",
   "id": "04d7500d",
   "metadata": {},
   "source": [
    "### Verify installation:\n",
    "\n",
    "If a tensor is returned, you've installed TensorFlow successfully."
   ]
  },
  {
   "cell_type": "raw",
   "id": "b2f77477",
   "metadata": {},
   "source": [
    "python3 -c \"import tensorflow as tf; print(tf.reduce_sum(tf.random.normal([1000, 1000])))\""
   ]
  },
  {
   "cell_type": "markdown",
   "id": "d17a9173",
   "metadata": {},
   "source": [
    "### Test Keras:"
   ]
  },
  {
   "cell_type": "code",
   "execution_count": null,
   "id": "fffb1bd5",
   "metadata": {},
   "outputs": [],
   "source": [
    "from tensorflow import keras"
   ]
  },
  {
   "cell_type": "markdown",
   "id": "a8f7d08d",
   "metadata": {},
   "source": [
    "### Install packages:"
   ]
  },
  {
   "cell_type": "raw",
   "id": "8787f1a3",
   "metadata": {},
   "source": [
    "pip install numpy matplotlib scipy"
   ]
  },
  {
   "cell_type": "code",
   "execution_count": null,
   "id": "552e814e",
   "metadata": {},
   "outputs": [],
   "source": []
  },
  {
   "cell_type": "code",
   "execution_count": null,
   "id": "7418567a",
   "metadata": {},
   "outputs": [],
   "source": []
  }
 ],
 "metadata": {
  "kernelspec": {
   "display_name": "Python 3 (ipykernel)",
   "language": "python",
   "name": "python3"
  },
  "language_info": {
   "codemirror_mode": {
    "name": "ipython",
    "version": 3
   },
   "file_extension": ".py",
   "mimetype": "text/x-python",
   "name": "python",
   "nbconvert_exporter": "python",
   "pygments_lexer": "ipython3",
   "version": "3.9.13"
  }
 },
 "nbformat": 4,
 "nbformat_minor": 5
}
