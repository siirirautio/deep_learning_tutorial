{
 "cells": [
  {
   "cell_type": "markdown",
   "id": "d18e5433",
   "metadata": {},
   "source": [
    "# Install Tensorflow and Keras on Windows"
   ]
  },
  {
   "cell_type": "markdown",
   "id": "a66366a6",
   "metadata": {},
   "source": [
    "System requirements:\n",
    "Windows 7 or higher (64-bit)"
   ]
  },
  {
   "cell_type": "markdown",
   "id": "54c57776",
   "metadata": {},
   "source": [
    "### Install Microsoft Visual C++ Redistributable:\n",
    "\n",
    "Install the Microsoft Visual C++ Redistributable for Visual Studio 2015, 2017, and 2019. \n",
    "\n",
    "1. Go to the Microsoft Visual C++ downloads:\n",
    "https://learn.microsoft.com/en-US/cpp/windows/latest-supported-vc-redist?view=msvc-170#visual-studio-2015-2017-2019-and-2022\n",
    "\n",
    "2. Download and install the Microsoft Visual C++ Redistributable for Visual Studio 2015, 2017, 2019 and 2022 for your platform.\n",
    "\n",
    "Make sure long paths are enabled on Windows: https://superuser.com/questions/1119883/windows-10-enable-ntfs-long-paths-policy-option-missing"
   ]
  },
  {
   "cell_type": "markdown",
   "id": "1f067ee9",
   "metadata": {},
   "source": [
    "### Install Anaconda:\n",
    "\n",
    "Download the Anaconda Windows Installer.\n",
    "\n",
    "https://www.anaconda.com/download\n",
    "\n",
    "Run the downloaded executable file to start installing. Follow the on-screen instructions and accept the default settings."
   ]
  },
  {
   "cell_type": "markdown",
   "id": "e1a04221",
   "metadata": {},
   "source": [
    "### Create a conda environment:\n",
    "\n",
    "Open the Windows Start menu and open an Anaconda Command Prompt. \n",
    "\n",
    "Create a new conda environment named tf with the following command. Make sure it is activated for the rest of the installation. You can deactivate and activate it with the commands below."
   ]
  },
  {
   "cell_type": "code",
   "execution_count": null,
   "id": "3570fddf",
   "metadata": {},
   "outputs": [],
   "source": [
    "conda create --name tf python=3.9"
   ]
  },
  {
   "cell_type": "code",
   "execution_count": null,
   "id": "b5f2a943",
   "metadata": {},
   "outputs": [],
   "source": [
    "conda deactivate\n",
    "conda activate tf"
   ]
  },
  {
   "cell_type": "markdown",
   "id": "60d87ac4",
   "metadata": {},
   "source": [
    "### Install TensorFlow:\n",
    "\n",
    "TensorFlow requires a recent version of pip, so upgrade your pip installation to be sure you're running the latest version. Then, install TensorFlow with pip."
   ]
  },
  {
   "cell_type": "code",
   "execution_count": null,
   "id": "22a2bcb8",
   "metadata": {},
   "outputs": [],
   "source": [
    "pip install --upgrade pip"
   ]
  },
  {
   "cell_type": "code",
   "execution_count": null,
   "id": "aa257070",
   "metadata": {},
   "outputs": [],
   "source": [
    "pip install \"tensorflow<2.11\" "
   ]
  },
  {
   "cell_type": "markdown",
   "id": "49565b87",
   "metadata": {},
   "source": [
    "### Verify installation:\n",
    "\n",
    "If a tensor is returned, you've installed TensorFlow successfully."
   ]
  },
  {
   "cell_type": "code",
   "execution_count": null,
   "id": "bdb963ff",
   "metadata": {},
   "outputs": [],
   "source": [
    "python -c \"import tensorflow as tf; print(tf.reduce_sum(tf.random.normal([1000, 1000])))\""
   ]
  },
  {
   "cell_type": "markdown",
   "id": "aa5af0cf",
   "metadata": {},
   "source": [
    "For more information, visit https://www.tensorflow.org/install/pip#windows-native"
   ]
  },
  {
   "cell_type": "markdown",
   "id": "86af535b",
   "metadata": {},
   "source": [
    "### Open Jupyter Notebook\n",
    "\n",
    "Launch Anaconda Navigator from the Start menu. Click on the Jupyter Notebook icon to launch the application."
   ]
  },
  {
   "cell_type": "markdown",
   "id": "4ee7de5f",
   "metadata": {},
   "source": [
    "### Test Keras:"
   ]
  },
  {
   "cell_type": "code",
   "execution_count": null,
   "id": "5d14ab86",
   "metadata": {},
   "outputs": [],
   "source": [
    "from tensorflow import keras"
   ]
  },
  {
   "cell_type": "markdown",
   "id": "816f6ac5",
   "metadata": {},
   "source": [
    "### Install packages:"
   ]
  },
  {
   "cell_type": "code",
   "execution_count": null,
   "id": "db74e4a9",
   "metadata": {},
   "outputs": [],
   "source": [
    "pip install numpy matplotlib scipy"
   ]
  },
  {
   "cell_type": "markdown",
   "id": "8aba8b07",
   "metadata": {},
   "source": []
  },
  {
   "cell_type": "code",
   "execution_count": null,
   "id": "9a40621e",
   "metadata": {},
   "outputs": [],
   "source": []
  },
  {
   "cell_type": "code",
   "execution_count": null,
   "id": "f1aa8bae",
   "metadata": {},
   "outputs": [],
   "source": []
  }
 ],
 "metadata": {
  "kernelspec": {
   "display_name": "Python 3 (ipykernel)",
   "language": "python",
   "name": "python3"
  },
  "language_info": {
   "codemirror_mode": {
    "name": "ipython",
    "version": 3
   },
   "file_extension": ".py",
   "mimetype": "text/x-python",
   "name": "python",
   "nbconvert_exporter": "python",
   "pygments_lexer": "ipython3",
   "version": "3.9.13"
  }
 },
 "nbformat": 4,
 "nbformat_minor": 5
}
