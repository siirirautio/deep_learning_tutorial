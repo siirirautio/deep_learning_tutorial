{
 "cells": [
  {
   "cell_type": "markdown",
   "id": "366523d8",
   "metadata": {},
   "source": [
    "# Install Tensorflow and Keras on Windows\n",
    "\n",
    "System requirements:\n",
    "Windows 7 or higher (64-bit)\n",
    "\n",
    "### From Github:\n",
    "Clone or download this repository."
   ]
  },
  {
   "cell_type": "markdown",
   "id": "54c57776",
   "metadata": {},
   "source": [
    "### Install Microsoft Visual C++ Redistributable:\n",
    "\n",
    "Install the Microsoft Visual C++ Redistributable for Visual Studio 2015, 2017, and 2019. \n",
    "\n",
    "1. Go to the Microsoft Visual C++ downloads:\n",
    "https://learn.microsoft.com/en-US/cpp/windows/latest-supported-vc-redist?view=msvc-170#visual-studio-2015-2017-2019-and-2022\n",
    "\n",
    "2. Download and install the Microsoft Visual C++ Redistributable for Visual Studio 2015, 2017, 2019 and 2022 for your platform.\n",
    "\n",
    "Make sure long paths are enabled on Windows: https://superuser.com/questions/1119883/windows-10-enable-ntfs-long-paths-policy-option-missing"
   ]
  },
  {
   "cell_type": "markdown",
   "id": "1f067ee9",
   "metadata": {},
   "source": [
    "### Install Anaconda:\n",
    "\n",
    "Download the Anaconda Windows Installer.\n",
    "\n",
    "https://www.anaconda.com/download\n",
    "\n",
    "Run the downloaded executable file to start installing. Follow the on-screen instructions and accept the default settings."
   ]
  },
  {
   "cell_type": "markdown",
   "id": "762ad5e5",
   "metadata": {},
   "source": [
    "### Create a conda environment:\n",
    "\n",
    "Open the Windows Start menu and open an Anaconda Command Prompt. \n",
    "\n",
    "Create a new conda environment named tf with the following command. Make sure it is activated for the rest of the installation. \n",
    "\n",
    "```conda create --name tf python=3.9```\n",
    "\n",
    "You can deactivate and activate it with the commands below.\n",
    "\n",
    "```conda deactivate\n",
    "conda activate tf```"
   ]
  },
  {
   "cell_type": "markdown",
   "id": "73294f2f",
   "metadata": {},
   "source": [
    "### Install TensorFlow:\n",
    "\n",
    "First, activate the virtual environment. \n",
    "\n",
    "```conda activate tf```\n",
    "\n",
    "TensorFlow requires a recent version of pip, so upgrade your pip installation to be sure you're running the latest version. Then, install TensorFlow with pip.\n",
    "\n",
    "```pip install --upgrade pip```\n",
    "\n",
    "```pip install \"tensorflow<2.11\" ```\n",
    "\n",
    "For more information, visit https://www.tensorflow.org/install/pip#windows-native"
   ]
  },
  {
   "cell_type": "markdown",
   "id": "f19a9db7",
   "metadata": {},
   "source": [
    "### Install packages:\n",
    "\n",
    "Install the following packages in the shell:\n",
    "\n",
    "```pip install opencv-python glob2 numpy scipy scikit-image matplotlib```\n",
    "\n",
    "```pip install -U scikit-learn```"
   ]
  },
  {
   "cell_type": "markdown",
   "id": "77a1e897",
   "metadata": {},
   "source": [
    "### Open Jupyter Notebook in virtual environment\n",
    "\n",
    "Launch Anaconda Navigator from the Start menu. \n",
    "\n",
    "Go to Environments tab and change it to the virtual ```tf``` environment that you have created.\n",
    "\n",
    "Got to home tab and install Jupyter Notebook. Then open the application.\n",
    "\n",
    "Open this tutorial notebook file with Jupyter notebook."
   ]
  },
  {
   "cell_type": "markdown",
   "id": "4ee7de5f",
   "metadata": {},
   "source": [
    "### Test Keras:\n",
    "Run the following code in this notebook to verify TensorFlow and python package installations."
   ]
  },
  {
   "cell_type": "code",
   "execution_count": null,
   "id": "5d14ab86",
   "metadata": {},
   "outputs": [],
   "source": [
    "import cv2\n",
    "import glob\n",
    "\n",
    "import numpy as np\n",
    "import scipy.io\n",
    "\n",
    "from tensorflow.keras import Model, layers, Input\n",
    "from tensorflow.keras.optimizers import Adam\n",
    "from tensorflow.keras.layers import Add, BatchNormalization, Convolution2D, UpSampling2D, Dense, MaxPooling2D, concatenate\n",
    "from tensorflow.keras import models\n",
    "\n",
    "from sklearn.model_selection import train_test_split\n",
    "\n",
    "import skimage\n",
    "from skimage.measure import block_reduce\n",
    "\n",
    "import matplotlib.pyplot as plt\n",
    "\n",
    "from random import randrange"
   ]
  }
 ],
 "metadata": {
  "kernelspec": {
   "display_name": "Python 3 (ipykernel)",
   "language": "python",
   "name": "python3"
  },
  "language_info": {
   "codemirror_mode": {
    "name": "ipython",
    "version": 3
   },
   "file_extension": ".py",
   "mimetype": "text/x-python",
   "name": "python",
   "nbconvert_exporter": "python",
   "pygments_lexer": "ipython3",
   "version": "3.9.13"
  }
 },
 "nbformat": 4,
 "nbformat_minor": 5
}
