{
 "cells": [
  {
   "cell_type": "markdown",
   "id": "d18e5433",
   "metadata": {},
   "source": [
    "# Install Tensorflow and Keras on Windows"
   ]
  },
  {
   "cell_type": "markdown",
   "id": "a66366a6",
   "metadata": {},
   "source": [
    "https://www.tensorflow.org/install/pip#windows-native\n",
    "\n",
    "System requirements:\n",
    "Windows 7 or higher (64-bit)"
   ]
  },
  {
   "cell_type": "markdown",
   "id": "54c57776",
   "metadata": {},
   "source": [
    "### Install Microsoft Visual C++ Redistributable:\n",
    "\n",
    "Install the Microsoft Visual C++ Redistributable for Visual Studio 2015, 2017, and 2019. \n",
    "\n",
    "1. Go to the Microsoft Visual C++ downloads:\n",
    "https://learn.microsoft.com/en-US/cpp/windows/latest-supported-vc-redist?view=msvc-170\n",
    "\n",
    "2. Scroll down the page to the Visual Studio 2015, 2017 and 2019 section.\n",
    "3. Download and install the Microsoft Visual C++ Redistributable for Visual Studio 2015, 2017 and 2019 for your platform.\n",
    "\n",
    "Make sure long paths are enabled on Windows: https://superuser.com/questions/1119883/windows-10-enable-ntfs-long-paths-policy-option-missing"
   ]
  },
  {
   "cell_type": "markdown",
   "id": "1f067ee9",
   "metadata": {},
   "source": [
    "### Install Miniconda:\n",
    "\n",
    "Download the Miniconda Windows Installer. Double-click the downloaded file and follow the instructions on the screen. https://docs.conda.io/en/latest/miniconda.html"
   ]
  },
  {
   "cell_type": "markdown",
   "id": "e1a04221",
   "metadata": {},
   "source": [
    "### Create a conda environment:\n",
    "\n",
    "Create a new conda environment named tf with the following command. Make sure it is activated for the rest of the installation. You can deactivate and activate it with the commands below."
   ]
  },
  {
   "cell_type": "raw",
   "id": "2c3ec367",
   "metadata": {},
   "source": [
    "conda create --name tf python=3.9"
   ]
  },
  {
   "cell_type": "raw",
   "id": "aa19dc65",
   "metadata": {},
   "source": [
    "conda deactivate\n",
    "conda activate tf"
   ]
  },
  {
   "cell_type": "markdown",
   "id": "60d87ac4",
   "metadata": {},
   "source": [
    "### Install TensorFlow:\n",
    "\n",
    "TensorFlow requires a recent version of pip, so upgrade your pip installation to be sure you're running the latest version. Then, install TensorFlow with pip."
   ]
  },
  {
   "cell_type": "raw",
   "id": "61b10609",
   "metadata": {},
   "source": [
    "pip install --upgrade pip"
   ]
  },
  {
   "cell_type": "raw",
   "id": "ce61c80b",
   "metadata": {},
   "source": [
    "pip install \"tensorflow<2.11\" "
   ]
  },
  {
   "cell_type": "markdown",
   "id": "49565b87",
   "metadata": {},
   "source": [
    "### Verify installation:\n",
    "\n",
    "If a tensor is returned, you've installed TensorFlow successfully."
   ]
  },
  {
   "cell_type": "raw",
   "id": "0fb8ac9c",
   "metadata": {},
   "source": [
    "python -c \"import tensorflow as tf; print(tf.reduce_sum(tf.random.normal([1000, 1000])))\""
   ]
  },
  {
   "cell_type": "markdown",
   "id": "4ee7de5f",
   "metadata": {},
   "source": [
    "### Test Keras:"
   ]
  },
  {
   "cell_type": "code",
   "execution_count": null,
   "id": "5d14ab86",
   "metadata": {},
   "outputs": [],
   "source": [
    "from tensorflow import keras"
   ]
  },
  {
   "cell_type": "markdown",
   "id": "816f6ac5",
   "metadata": {},
   "source": [
    "### Install packages:"
   ]
  },
  {
   "cell_type": "raw",
   "id": "de91d56d",
   "metadata": {},
   "source": [
    "pip install numpy matplotlib scipy"
   ]
  },
  {
   "cell_type": "code",
   "execution_count": null,
   "id": "b68d8653",
   "metadata": {},
   "outputs": [],
   "source": []
  },
  {
   "cell_type": "code",
   "execution_count": null,
   "id": "da29776c",
   "metadata": {},
   "outputs": [],
   "source": []
  }
 ],
 "metadata": {
  "kernelspec": {
   "display_name": "Python 3 (ipykernel)",
   "language": "python",
   "name": "python3"
  },
  "language_info": {
   "codemirror_mode": {
    "name": "ipython",
    "version": 3
   },
   "file_extension": ".py",
   "mimetype": "text/x-python",
   "name": "python",
   "nbconvert_exporter": "python",
   "pygments_lexer": "ipython3",
   "version": "3.9.13"
  }
 },
 "nbformat": 4,
 "nbformat_minor": 5
}
