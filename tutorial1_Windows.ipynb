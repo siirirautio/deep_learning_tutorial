{
 "cells": [
  {
   "cell_type": "markdown",
   "id": "d18e5433",
   "metadata": {},
   "source": [
    "# Install Tensorflow and Keras on Windows"
   ]
  },
  {
   "cell_type": "markdown",
   "id": "a66366a6",
   "metadata": {},
   "source": [
    "System requirements:\n",
    "Windows 7 or higher (64-bit)"
   ]
  },
  {
   "cell_type": "markdown",
   "id": "20ab4fb3",
   "metadata": {},
   "source": [
    "Clone or download this repository."
   ]
  },
  {
   "cell_type": "markdown",
   "id": "54c57776",
   "metadata": {},
   "source": [
    "### Install Microsoft Visual C++ Redistributable:\n",
    "\n",
    "Install the Microsoft Visual C++ Redistributable for Visual Studio 2015, 2017, and 2019. \n",
    "\n",
    "1. Go to the Microsoft Visual C++ downloads:\n",
    "https://learn.microsoft.com/en-US/cpp/windows/latest-supported-vc-redist?view=msvc-170#visual-studio-2015-2017-2019-and-2022\n",
    "\n",
    "2. Download and install the Microsoft Visual C++ Redistributable for Visual Studio 2015, 2017, 2019 and 2022 for your platform.\n",
    "\n",
    "Make sure long paths are enabled on Windows: https://superuser.com/questions/1119883/windows-10-enable-ntfs-long-paths-policy-option-missing"
   ]
  },
  {
   "cell_type": "markdown",
   "id": "1f067ee9",
   "metadata": {},
   "source": [
    "### Install Anaconda:\n",
    "\n",
    "Download the Anaconda Windows Installer.\n",
    "\n",
    "https://www.anaconda.com/download\n",
    "\n",
    "Run the downloaded executable file to start installing. Follow the on-screen instructions and accept the default settings."
   ]
  },
  {
   "cell_type": "markdown",
   "id": "e1a04221",
   "metadata": {},
   "source": [
    "### Create a conda environment:\n",
    "\n",
    "Open the Windows Start menu and open an Anaconda Command Prompt. \n",
    "\n",
    "Create a new conda environment named tf with the following command. Make sure it is activated for the rest of the installation. "
   ]
  },
  {
   "cell_type": "code",
   "execution_count": null,
   "id": "e9cfedda",
   "metadata": {},
   "outputs": [],
   "source": [
    "conda create --name tf python=3.9"
   ]
  },
  {
   "cell_type": "markdown",
   "id": "dcbb4263",
   "metadata": {},
   "source": [
    "You can deactivate and activate it with the commands below."
   ]
  },
  {
   "cell_type": "code",
   "execution_count": null,
   "id": "817ce9e8",
   "metadata": {},
   "outputs": [],
   "source": [
    "conda deactivate\n",
    "conda activate tf"
   ]
  },
  {
   "cell_type": "markdown",
   "id": "60d87ac4",
   "metadata": {},
   "source": [
    "### Install TensorFlow:\n",
    "\n",
    "First, activate the virtual environment. "
   ]
  },
  {
   "cell_type": "code",
   "execution_count": null,
   "id": "fa6239ff",
   "metadata": {},
   "outputs": [],
   "source": [
    "conda activate tf"
   ]
  },
  {
   "cell_type": "markdown",
   "id": "09eb1625",
   "metadata": {},
   "source": [
    "TensorFlow requires a recent version of pip, so upgrade your pip installation to be sure you're running the latest version. Then, install TensorFlow with pip."
   ]
  },
  {
   "cell_type": "code",
   "execution_count": null,
   "id": "f468ed3b",
   "metadata": {},
   "outputs": [],
   "source": [
    "pip install --upgrade pip"
   ]
  },
  {
   "cell_type": "code",
   "execution_count": null,
   "id": "0a2253ab",
   "metadata": {},
   "outputs": [],
   "source": [
    "pip install \"tensorflow<2.11\" "
   ]
  },
  {
   "cell_type": "markdown",
   "id": "49565b87",
   "metadata": {},
   "source": [
    "### Verify installation:\n",
    "\n",
    "If a tensor is returned, you've installed TensorFlow successfully.\n",
    "\n",
    "```python -c \"import tensorflow as tf; print(tf.reduce_sum(tf.random.normal([1000, 1000])))\"```"
   ]
  },
  {
   "cell_type": "markdown",
   "id": "61595bdd",
   "metadata": {},
   "source": [
    "For more information, visit https://www.tensorflow.org/install/pip#windows-native"
   ]
  },
  {
   "cell_type": "markdown",
   "id": "e89c3b47",
   "metadata": {},
   "source": [
    "### Open Jupyter Notebook in virtual environment\n",
    "\n",
    "Launch Anaconda Navigator from the Start menu. \n",
    "\n",
    "Go to Environments tab and change it to the virtual ```tf``` environment that you have created.\n",
    "\n",
    "Got to home tab and install Jupyter Notebook. Then open the application.\n",
    "\n",
    "Open this tutorial notebook file with Jupyter notebook."
   ]
  },
  {
   "cell_type": "markdown",
   "id": "4ee7de5f",
   "metadata": {},
   "source": [
    "### Test Keras:\n",
    "Run the following command with in this notebook to verify TensorFlow installation."
   ]
  },
  {
   "cell_type": "code",
   "execution_count": null,
   "id": "5d14ab86",
   "metadata": {},
   "outputs": [],
   "source": [
    "from tensorflow import keras"
   ]
  },
  {
   "cell_type": "markdown",
   "id": "816f6ac5",
   "metadata": {},
   "source": [
    "### Install packages:"
   ]
  },
  {
   "cell_type": "markdown",
   "id": "55ae1a35",
   "metadata": {},
   "source": [
    "```pip install opencv-python glob2 numpy scipy scikit-image matplotlib```"
   ]
  },
  {
   "cell_type": "markdown",
   "id": "ce1009a0",
   "metadata": {},
   "source": [
    "```pip install -U scikit-learn```"
   ]
  },
  {
   "cell_type": "code",
   "execution_count": null,
   "id": "41552f1e",
   "metadata": {},
   "outputs": [],
   "source": []
  },
  {
   "cell_type": "code",
   "execution_count": null,
   "id": "1ed8a3d5",
   "metadata": {},
   "outputs": [],
   "source": []
  }
 ],
 "metadata": {
  "kernelspec": {
   "display_name": "Python 3 (ipykernel)",
   "language": "python",
   "name": "python3"
  },
  "language_info": {
   "codemirror_mode": {
    "name": "ipython",
    "version": 3
   },
   "file_extension": ".py",
   "mimetype": "text/x-python",
   "name": "python",
   "nbconvert_exporter": "python",
   "pygments_lexer": "ipython3",
   "version": "3.9.13"
  }
 },
 "nbformat": 4,
 "nbformat_minor": 5
}
