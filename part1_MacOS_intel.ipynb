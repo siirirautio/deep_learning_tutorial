{
 "cells": [
  {
   "cell_type": "markdown",
   "id": "605071e2",
   "metadata": {},
   "source": [
    "# Install Tensorflow and required packages on MacOS\n",
    "\n",
    "System requirements:\n",
    "macOS 10.12.6 (Sierra) or higher (64-bit)\n",
    "\n",
    "### From Github:\n",
    "Clone or download this repository."
   ]
  },
  {
   "cell_type": "markdown",
   "id": "c9218dc4",
   "metadata": {},
   "source": [
    "### Check if your Python environment is already configured: \n",
    "Requires Python 3.8–3.11 and pip >= 20.3 for MacOS.\n",
    "\n",
    "```python3 --version```\n",
    "\n",
    "```python3 -m pip --version```"
   ]
  },
  {
   "cell_type": "markdown",
   "id": "2f43246a",
   "metadata": {},
   "source": [
    "### Install Miniconda:\n",
    "\n",
    "Miniconda is the recommended approach for installing TensorFlow. It creates a separate environment to avoid changing any installed software in your system.\n",
    "\n",
    "```curl https://repo.anaconda.com/miniconda/Miniconda3-latest-MacOSX-x86_64.sh -o Miniconda3-latest-MacOSX-x86_64.sh```\n",
    "\n",
    "```bash Miniconda3-latest-MacOSX-x86_64.sh```\n",
    "\n",
    "Use ```conda -V``` to test if it is installed successfully."
   ]
  },
  {
   "cell_type": "markdown",
   "id": "ed8611bc",
   "metadata": {},
   "source": [
    "### Create a conda environment:\n",
    "\n",
    "Create a new conda environment named ```tf``` with the following command. Make sure it is activated for the rest of the installation. \n",
    "\n",
    "```conda create --name tf python=3.9```\n",
    "\n",
    "You can deactivate and activate it with the commands below.\n",
    "\n",
    "```conda deactivate```\n",
    "\n",
    "```conda activate tf```"
   ]
  },
  {
   "cell_type": "markdown",
   "id": "5fb1a470",
   "metadata": {},
   "source": [
    "### Install TensorFlow:\n",
    "\n",
    "First, activate the virtual environment. \n",
    "\n",
    "```conda activate tf```\n",
    "\n",
    "TensorFlow requires a recent version of pip, so upgrade your pip installation to be sure you're running the latest version. \n",
    "\n",
    "```pip install --upgrade pip```\n",
    "\n",
    "Then, install TensorFlow with pip.\n",
    "\n",
    "```pip install tensorflow```\n",
    "\n",
    "For more information, visit https://www.tensorflow.org/install/pip#macos"
   ]
  },
  {
   "cell_type": "markdown",
   "id": "252fb698",
   "metadata": {},
   "source": [
    "### Install packages:\n",
    "\n",
    "Continue installing the following packages:\n",
    "\n",
    "```pip install opencv-python glob2 numpy scipy scikit-image matplotlib```\n",
    "\n",
    "```pip install -U scikit-learn```"
   ]
  },
  {
   "cell_type": "markdown",
   "id": "04d7500d",
   "metadata": {},
   "source": [
    "### Install and open Jupyter Notebook\n",
    "\n",
    "Install the Jupyter Notebook.\n",
    "\n",
    "```pip install notebook```\n",
    "\n",
    "And then run the application.\n",
    "\n",
    "```jupyter notebook```\n",
    "\n",
    "Open this ```part1_MacOS``` notebook file with Jupyter notebook."
   ]
  },
  {
   "cell_type": "markdown",
   "id": "d17a9173",
   "metadata": {},
   "source": [
    "### Test Keras:\n",
    "Run the following code in this notebook to verify TensorFlow and python package installations.\n",
    "\n",
    "If there are no errors, you're all set!"
   ]
  },
  {
   "cell_type": "code",
   "execution_count": null,
   "id": "fffb1bd5",
   "metadata": {},
   "outputs": [],
   "source": [
    "import cv2\n",
    "import glob\n",
    "\n",
    "import numpy as np\n",
    "import scipy.io\n",
    "\n",
    "from tensorflow.keras import Model, layers, Input\n",
    "from tensorflow.keras.optimizers import Adam\n",
    "from tensorflow.keras.layers import Add, BatchNormalization, Convolution2D, UpSampling2D, Dense, MaxPooling2D, concatenate\n",
    "from tensorflow.keras import models\n",
    "\n",
    "from sklearn.model_selection import train_test_split\n",
    "\n",
    "import skimage\n",
    "from skimage.measure import block_reduce\n",
    "\n",
    "import matplotlib.pyplot as plt\n",
    "\n",
    "from random import randrange"
   ]
  }
 ],
 "metadata": {
  "kernelspec": {
   "display_name": "Python 3 (ipykernel)",
   "language": "python",
   "name": "python3"
  },
  "language_info": {
   "codemirror_mode": {
    "name": "ipython",
    "version": 3
   },
   "file_extension": ".py",
   "mimetype": "text/x-python",
   "name": "python",
   "nbconvert_exporter": "python",
   "pygments_lexer": "ipython3",
   "version": "3.10.12"
  }
 },
 "nbformat": 4,
 "nbformat_minor": 5
}
